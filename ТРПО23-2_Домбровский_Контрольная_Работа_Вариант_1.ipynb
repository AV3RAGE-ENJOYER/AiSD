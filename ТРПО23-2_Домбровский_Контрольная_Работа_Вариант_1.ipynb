{
 "cells": [
  {
   "cell_type": "markdown",
   "metadata": {},
   "source": [
    "### Контрольная работа № 1.\n",
    "### Вариант 1.\n",
    "#### Студент Домбровский Андрей группа ТРПО23-2"
   ]
  },
  {
   "cell_type": "markdown",
   "metadata": {},
   "source": [
    "1. Создайте класс Length (Длина), имеющий свойства\n",
    "\n",
    "• value (значение),\n",
    "\n",
    "• unit (единица измерения).\n",
    "\n",
    "При изменении единицы измерения значение должно соответственно меняться. Например, при переходе от сантиметров к метрам значение должно уменьшаться в 100 раз. Допустимые значения свойства unit: ‘см’, ‘м’, ‘км’. Организуйте эту проверку. Продемонстрируйте работу с классом."
   ]
  },
  {
   "cell_type": "code",
   "execution_count": 1,
   "metadata": {},
   "outputs": [
    {
     "name": "stdout",
     "output_type": "stream",
     "text": [
      "100 см\n",
      "1.0 м\n",
      "0.001 км\n"
     ]
    }
   ],
   "source": [
    "# Решение 1.\n",
    "\n",
    "class Length:\n",
    "    def __init__(self, value, unit):\n",
    "        self.value = value\n",
    "        self.unit = unit\n",
    "\n",
    "    def convert_to_meters(self):\n",
    "        if self.unit == 'см':\n",
    "            self.value /= 100\n",
    "            self.unit = 'м'\n",
    "        elif self.unit == 'км':\n",
    "            self.value *= 1000\n",
    "            self.unit = 'м'\n",
    "\n",
    "    def convert_to_centimeters(self):\n",
    "        if self.unit == 'м':\n",
    "            self.value *= 100\n",
    "            self.unit = 'см'\n",
    "        elif self.unit == 'км':\n",
    "            self.value *= 100000\n",
    "            self.unit = 'см'\n",
    "\n",
    "    def convert_to_kilometers(self):\n",
    "        if self.unit == 'м':\n",
    "            self.value /= 1000\n",
    "            self.unit = 'км'\n",
    "        elif self.unit == 'см':\n",
    "            self.value /= 100000\n",
    "            self.unit = 'км'\n",
    "\n",
    "    def __str__(self):\n",
    "        return f'{self.value} {self.unit}'\n",
    "\n",
    "length = Length(100, 'см')\n",
    "print(length)\n",
    "length.convert_to_meters()\n",
    "print(length)\n",
    "length.convert_to_kilometers()\n",
    "print(length)\n",
    "\n"
   ]
  },
  {
   "cell_type": "markdown",
   "metadata": {},
   "source": [
    "2. Создайте класс Ведомость, имеющий\n",
    "атрибут класса:\n",
    "\n",
    "• список_дисциплин (значением является список с названиями дисциплин);\n",
    "\n",
    "свойства:\n",
    "\n",
    "• дисциплина (при задании значения проверять наличие дисциплины в атрибуте список_дисциплин),\n",
    "\n",
    "• группа;\n",
    "\n",
    "методы:\n",
    "\n",
    "• put – добавляет в ведомость информацию об оценке студента (фамилия, оценка – параметры метода). Для хранения данных внутри класса используйте словарь, в котором ключом является фамилия студента. Возможные оценки – «отлично», «хорошо», «удовл.», «неудовл.», «н/я»;\n",
    "\n",
    "• get – возвращает оценку, полученную студентом (фамилия студента – параметр метода);\n",
    "\n",
    "• change – изменяет оценку, полученную студентом (фамилия студента и новая оценка – параметры метода);\n",
    "\n",
    "• del – удаляет информацию о студенте из ведомости (фамилия студента – параметр метода);\n",
    "\n",
    "• result – возвращает кортеж из 5 чисел (количество каждого вида оценок в ведомости);\n",
    "\n",
    "• __init__ – конструктор;\n",
    "\n",
    "• __str__ – возвращает строку, содержащую заголовки (название экзамена, группа) и результаты экзамена в виде таблицы;\n",
    "\n",
    "• count – возвращает количество студентов в ведомости;\n",
    "\n",
    "• names – возвращает список фамилий, имеющихся в ведомости.\n",
    "\n",
    "Продемонстрируйте работу с классом. \n"
   ]
  },
  {
   "cell_type": "code",
   "execution_count": 6,
   "metadata": {},
   "outputs": [
    {
     "name": "stdout",
     "output_type": "stream",
     "text": [
      "Хорошо\n",
      "(2, 0, 1, 0, 0)\n",
      "Экзамен: Математика\n",
      "Группа: ТРПО23-2\n",
      "Фамилия\t\tОценка\n",
      "Андрей\t\tОтлично\n",
      "Роман\t\tОтлично\n",
      "Амир\t\tУдовлетворительно\n",
      "\n",
      "3\n",
      "['Андрей', 'Роман', 'Амир']\n"
     ]
    }
   ],
   "source": [
    "# Решение 2.\n",
    "\n",
    "class Gradebook:\n",
    "    disciplines_list = ['Математика', 'Физика', 'Информатика']\n",
    "\n",
    "    def __init__(self, discipline, group):\n",
    "        self.discipline = discipline\n",
    "        self.group = group\n",
    "        self.gradebook = {}\n",
    "\n",
    "    def put(self, surname, grade):\n",
    "        if grade not in ['Отлично', 'Хорошо', 'Удовлетворительно', 'Неудовлетворительно', 'н/я']:\n",
    "            return \"Неправильная оценка\"\n",
    "        self.gradebook[surname] = grade\n",
    "\n",
    "    def get(self, surname):\n",
    "        return self.gradebook.get(surname)\n",
    "\n",
    "    def change(self, surname, new_grade):\n",
    "        if new_grade not in ['Отлично', 'Хорошо', 'Удовлетворительно', 'Неудовлетворительно', 'н/я']:\n",
    "            return \"Неправильная оценка\"\n",
    "        self.gradebook[surname] = new_grade\n",
    "\n",
    "    def __del__(self):\n",
    "        del self.gradebook\n",
    "\n",
    "    def result(self):\n",
    "        excellent = list(self.gradebook.values()).count('Отлично')\n",
    "        good = list(self.gradebook.values()).count('Хорошо')\n",
    "        satisfactory = list(self.gradebook.values()).count('Удовлетворительно')\n",
    "        unsatisfactory = list(self.gradebook.values()).count('Неудовлетворительно')\n",
    "        n_a = list(self.gradebook.values()).count('н/я')\n",
    "        return (excellent, good, satisfactory, unsatisfactory, n_a)\n",
    "\n",
    "    def __str__(self):\n",
    "        res = f'Экзамен: {self.discipline}\\nГруппа: {self.group}\\n'\n",
    "        res += f'Фамилия\\t\\tОценка\\n'\n",
    "        for surname, grade in self.gradebook.items():\n",
    "            res += f'{surname}\\t\\t{grade}\\n'\n",
    "        return res\n",
    "\n",
    "    def count(self):\n",
    "        return len(self.gradebook)\n",
    "\n",
    "    def names(self):\n",
    "        return list(self.gradebook.keys())\n",
    "\n",
    "gradebook = Gradebook('Математика', 'ТРПО23-2')\n",
    "gradebook.put('Андрей', 'Отлично')\n",
    "gradebook.put('Роман', 'Хорошо')\n",
    "gradebook.put('Амир', 'Удовлетворительно')\n",
    "print(gradebook.get('Роман'))\n",
    "gradebook.change('Роман', 'Отлично')\n",
    "print(gradebook.result())\n",
    "print(gradebook)\n",
    "print(gradebook.count())\n",
    "print(gradebook.names())\n"
   ]
  },
  {
   "cell_type": "markdown",
   "metadata": {},
   "source": [
    "3. Создайте класс Заказ(Order), у которого есть свойства код_товара(code), цена(price), количество(count) и методы __init__ и __str__.\n",
    "\n",
    "Создайте 2 класса-потомка: Опт(Opt) и Розница(Retail).\n",
    "В этих классах создайте методы __init__, __str__.и сумма_заказа(summa), позволяющий узнать стоимость заказа.\n",
    "Для опта стоимость единицы товара составляет 95% от цены, а при покупке более 500 штук – 90% цены.\n",
    "В розницу стоимость единицы товара составляет 100% цены. Стоимость заказа равна произведению цены на количество. \n",
    "\n",
    "Продемонстрируйте работу с классами, создав необходимые объекты и обратившись к их свойствам и методам\n"
   ]
  },
  {
   "cell_type": "code",
   "execution_count": 7,
   "metadata": {},
   "outputs": [
    {
     "name": "stdout",
     "output_type": "stream",
     "text": [
      "Оптовый заказ - Код: P1, Цена: 100, Количество: 600\n",
      "Итоговая цена для Заказа 1: $54000.0\n",
      "Розничный заказ - Код: P2, Цена: 50, Количество: 200\n",
      "Итоговая цена для Заказа 2: $10000\n"
     ]
    }
   ],
   "source": [
    "# Решение 3.\n",
    "\n",
    "class Order:\n",
    "    def __init__(self, code, price, count):\n",
    "        self.code = code\n",
    "        self.price = price\n",
    "        self.count = count\n",
    "\n",
    "    def __str__(self):\n",
    "        return f\"Код: {self.code}, Цена: {self.price}, Количество: {self.count}\"\n",
    "\n",
    "    def total_price(self):\n",
    "        return self.price * self.count\n",
    "\n",
    "\n",
    "class Opt(Order):\n",
    "    def __init__(self, code, price, count):\n",
    "        super().__init__(code, price, count)\n",
    "\n",
    "    def __str__(self):\n",
    "        return f\"Оптовый заказ - {super().__str__()}\"\n",
    "\n",
    "    def total_price(self):\n",
    "        if self.count > 500:\n",
    "            return self.price * self.count * 0.9\n",
    "        else:\n",
    "            return self.price * self.count * 0.95\n",
    "\n",
    "\n",
    "class Retail(Order):\n",
    "    def __init__(self, code, price, count):\n",
    "        super().__init__(code, price, count)\n",
    "\n",
    "    def __str__(self):\n",
    "        return f\"Розничный заказ - {super().__str__()}\"\n",
    "\n",
    "    def total_price(self):\n",
    "        return self.price * self.count\n",
    "\n",
    "\n",
    "заказ1 = Opt(\"P1\", 100, 600)\n",
    "заказ2 = Retail(\"P2\", 50, 200)\n",
    "\n",
    "print(заказ1)\n",
    "print(f\"Итоговая цена для Заказа 1: ${заказ1.total_price()}\")\n",
    "print(заказ2)\n",
    "print(f\"Итоговая цена для Заказа 2: ${заказ2.total_price()}\")\n"
   ]
  },
  {
   "cell_type": "markdown",
   "metadata": {},
   "source": [
    "4. Написать функцию my_func_1(lst), которая переворачивает список вложенных списков с произвольным уровнем вложенности.\n",
    "Любой элемент, не являющийся списком, не должен быть изменен.\n",
    "\n",
    "Примеры, демонстрирующие ожидаемое поведение функции:\n",
    "\n",
    "assert my_func_1(42) == 42\n",
    "\n",
    "assert my_func_1([]) == []\n",
    "\n",
    "assert my_func_1([1, 2]) == [2, 1]\n",
    "\n",
    "assert my_func_1((1, 2)) == (1, 2)\n",
    "\n",
    "assert my_func_1([[1, 2], [3, [4, 5]], 6]) == [6, [[5, 4], 3], [2, 1]]\n",
    "\n",
    "assert my_func_1(['123', '456', '789', {10: [11, 12], 13: 14}, (15, 16)]) == [(15, 16), {10: [11, 12], 13: 14}, '789', '456', '123']\n",
    "\n",
    "assert my_func_1([[[[[1, 2]]]]]) == [[[[[2, 1]]]]]"
   ]
  },
  {
   "cell_type": "code",
   "execution_count": 9,
   "metadata": {},
   "outputs": [],
   "source": [
    "# Решение 4.\n",
    "\n",
    "def my_func_1(lst):\n",
    "    if isinstance(lst, list):\n",
    "        return list(map(my_func_1, lst))[::-1]\n",
    "    return lst\n",
    "\n",
    "\n",
    "assert my_func_1(42) == 42\n",
    "assert my_func_1([]) == []\n",
    "assert my_func_1([1, 2]) == [2, 1]\n",
    "assert my_func_1((1, 2)) == (1, 2)\n",
    "assert my_func_1([[1, 2], [3, [4, 5]], 6]) == [6, [[5, 4], 3], [2, 1]]\n",
    "assert my_func_1(['123', '456', '789', {10: [11, 12], 13: 14}, (15, 16)]) == [(15, 16), {10: [11, 12], 13: 14}, '789', '456', '123']\n",
    "assert my_func_1([[[[[1, 2]]]]]) == [[[[[2, 1]]]]]\n"
   ]
  },
  {
   "cell_type": "markdown",
   "metadata": {},
   "source": [
    "5.При помощи механизма map/filter/reduce возвести в квадрат числа от 1 до 100, и рассчитать их сумму, не включая в сумму числа, кратные 9. Написать реализацию в одну строку."
   ]
  },
  {
   "cell_type": "code",
   "execution_count": 28,
   "metadata": {},
   "outputs": [
    {
     "data": {
      "text/plain": [
       "297364"
      ]
     },
     "execution_count": 28,
     "metadata": {},
     "output_type": "execute_result"
    }
   ],
   "source": [
    "# Решение 5.\n",
    "\n",
    "from functools import reduce\n",
    "\n",
    "reduce(lambda x, y: x + y, map(lambda x: x**2, filter(lambda x: x % 9 != 0, range(1, 101))))"
   ]
  },
  {
   "cell_type": "markdown",
   "metadata": {},
   "source": [
    "6.Написать декоратор с параметром my_decorator(n). Декоратор превращает функцию, возвращающую поддерживающий итерации объект (далее \"последовательность\"), в функцию-генератор. Если декорируемая функция возвращает что-то другое, а не последовательность, то декоратор должен вернуть этот результат вызова функции без изменений.\n",
    "\n",
    "Проверку объекта можно организовать при помощи условия import collections if isinstance(item, collections.Iterable)\n",
    "\n",
    "Параметром декоратора может быть целое положительное число n, тогда получившаяся функция-декоратор должна генерировать по одному значению из последовательности, повторенной n раз. Также параметр может принимать строковое значение 'inf', тогда функция-декоратор генерирует по одному значению из последовательности, повторенной бесконечное число раз (зацикливает генерирование результата).\n",
    "\n",
    "Подсказка: сначала реализовать случай со значением аргумента 'inf', а затем модифицировать для целочисленного значения аргумента."
   ]
  },
  {
   "cell_type": "code",
   "execution_count": null,
   "metadata": {},
   "outputs": [],
   "source": [
    "# Решение 6.\n"
   ]
  }
 ],
 "metadata": {
  "kernelspec": {
   "display_name": "Python 3 (ipykernel)",
   "language": "python",
   "name": "python3"
  },
  "language_info": {
   "codemirror_mode": {
    "name": "ipython",
    "version": 3
   },
   "file_extension": ".py",
   "mimetype": "text/x-python",
   "name": "python",
   "nbconvert_exporter": "python",
   "pygments_lexer": "ipython3",
   "version": "3.10.9"
  }
 },
 "nbformat": 4,
 "nbformat_minor": 4
}
